{
 "cells": [
  {
   "cell_type": "markdown",
   "id": "06f39039",
   "metadata": {},
   "source": [
    "# Cleaning testing data"
   ]
  },
  {
   "cell_type": "code",
   "execution_count": 51,
   "id": "62ce4456",
   "metadata": {},
   "outputs": [
    {
     "name": "stdout",
     "output_type": "stream",
     "text": [
      "  order_date  quantity         category    sales\n",
      "0   1/3/2019         2  Office Supplies   16.448\n",
      "1   1/4/2019         2  Office Supplies    3.540\n",
      "2   1/4/2019         3  Office Supplies   11.784\n",
      "3   1/4/2019         3  Office Supplies  272.736\n",
      "4   1/5/2019         3  Office Supplies   19.536\n"
     ]
    }
   ],
   "source": [
    "import pandas as pd\n",
    "\n",
    "\n",
    "# Import File\n",
    "data = pd.read_csv('/Users/jinnanut/Library/Mobile Documents/com~apple~CloudDocs/NUT/Exeter University/Master/Term 3/BEMM466 Business Project/Dissertation/Data/Data.csv')\n",
    "\n",
    "# Select only useful columns\n",
    "df = data[['order_date','quantity','category','sales']]\n",
    "\n",
    "print(df.head())"
   ]
  },
  {
   "cell_type": "markdown",
   "id": "326d629d",
   "metadata": {},
   "source": [
    "Add more feature such as date, month and year columns \n",
    "Moreover, Flag lockdown or holiday columns for the further analysis."
   ]
  },
  {
   "cell_type": "code",
   "execution_count": 52,
   "id": "c8083ec8",
   "metadata": {},
   "outputs": [
    {
     "name": "stdout",
     "output_type": "stream",
     "text": [
      "    category       date  quantity     sales\n",
      "0  Furniture 2019-01-06        36  3918.055\n",
      "1  Furniture 2019-01-13        39  4658.118\n",
      "2  Furniture 2019-01-20         0     0.000\n",
      "3  Furniture 2019-01-27         0     0.000\n",
      "4  Furniture 2019-02-03         0     0.000\n"
     ]
    },
    {
     "name": "stderr",
     "output_type": "stream",
     "text": [
      "/var/folders/qm/xr3xsq8s2hl_27kvzqb6mkz40000gn/T/ipykernel_21494/3286021739.py:2: SettingWithCopyWarning: \n",
      "A value is trying to be set on a copy of a slice from a DataFrame.\n",
      "Try using .loc[row_indexer,col_indexer] = value instead\n",
      "\n",
      "See the caveats in the documentation: https://pandas.pydata.org/pandas-docs/stable/user_guide/indexing.html#returning-a-view-versus-a-copy\n",
      "  df['date'] = pd.to_datetime(df['order_date'], dayfirst=True, errors='coerce')\n",
      "/var/folders/qm/xr3xsq8s2hl_27kvzqb6mkz40000gn/T/ipykernel_21494/3286021739.py:5: SettingWithCopyWarning: \n",
      "A value is trying to be set on a copy of a slice from a DataFrame.\n",
      "Try using .loc[row_indexer,col_indexer] = value instead\n",
      "\n",
      "See the caveats in the documentation: https://pandas.pydata.org/pandas-docs/stable/user_guide/indexing.html#returning-a-view-versus-a-copy\n",
      "  df['day'] = df['date'].dt.day\n",
      "/var/folders/qm/xr3xsq8s2hl_27kvzqb6mkz40000gn/T/ipykernel_21494/3286021739.py:6: SettingWithCopyWarning: \n",
      "A value is trying to be set on a copy of a slice from a DataFrame.\n",
      "Try using .loc[row_indexer,col_indexer] = value instead\n",
      "\n",
      "See the caveats in the documentation: https://pandas.pydata.org/pandas-docs/stable/user_guide/indexing.html#returning-a-view-versus-a-copy\n",
      "  df['month'] = df['date'].dt.month\n",
      "/var/folders/qm/xr3xsq8s2hl_27kvzqb6mkz40000gn/T/ipykernel_21494/3286021739.py:7: SettingWithCopyWarning: \n",
      "A value is trying to be set on a copy of a slice from a DataFrame.\n",
      "Try using .loc[row_indexer,col_indexer] = value instead\n",
      "\n",
      "See the caveats in the documentation: https://pandas.pydata.org/pandas-docs/stable/user_guide/indexing.html#returning-a-view-versus-a-copy\n",
      "  df['year'] = df['date'].dt.year\n"
     ]
    }
   ],
   "source": [
    "# Change date column to datetime format\n",
    "df['date'] = pd.to_datetime(df['order_date'], dayfirst=True, errors='coerce')\n",
    "\n",
    "# Extract day, month and year for analyst, then drop the old date column\n",
    "df['day'] = df['date'].dt.day\n",
    "df['month'] = df['date'].dt.month\n",
    "df['year'] = df['date'].dt.year\n",
    "\n",
    "df = df.drop(columns=['order_date'])\n",
    "\n",
    "# Group by categorty and convert daily data to weekly data\n",
    "df.set_index('date', inplace = True)\n",
    "df = df.groupby('category').resample('W')['quantity','sales'].sum().reset_index()\n",
    "\n",
    "print(df.head())\n",
    "\n",
    "# Export weekly data to Excel \n",
    "df.to_excel('/Users/jinnanut/Library/Mobile Documents/com~apple~CloudDocs/NUT/Exeter University/Master/Term 3/BEMM466 Business Project/Dissertation/Data/WeeklyData.xlsx')"
   ]
  },
  {
   "cell_type": "markdown",
   "id": "bc4c625a",
   "metadata": {},
   "source": [
    "## Clean case study data"
   ]
  },
  {
   "cell_type": "code",
   "execution_count": 8,
   "id": "d74b6de9",
   "metadata": {},
   "outputs": [
    {
     "name": "stdout",
     "output_type": "stream",
     "text": [
      "     category       date  quantity       price\n",
      "0  Appliances 2020-10-04       180   46372.889\n",
      "1  Appliances 2020-10-11       329  106990.010\n",
      "2  Appliances 2020-10-18       338   74862.550\n",
      "3  Appliances 2020-10-25       231   66029.900\n",
      "4  Appliances 2020-11-01       246   60221.900\n"
     ]
    },
    {
     "name": "stderr",
     "output_type": "stream",
     "text": [
      "/var/folders/qm/xr3xsq8s2hl_27kvzqb6mkz40000gn/T/ipykernel_23376/3800934436.py:9: SettingWithCopyWarning: \n",
      "A value is trying to be set on a copy of a slice from a DataFrame.\n",
      "Try using .loc[row_indexer,col_indexer] = value instead\n",
      "\n",
      "See the caveats in the documentation: https://pandas.pydata.org/pandas-docs/stable/user_guide/indexing.html#returning-a-view-versus-a-copy\n",
      "  df['date'] = df['order_date']\n",
      "/var/folders/qm/xr3xsq8s2hl_27kvzqb6mkz40000gn/T/ipykernel_23376/3800934436.py:12: SettingWithCopyWarning: \n",
      "A value is trying to be set on a copy of a slice from a DataFrame.\n",
      "Try using .loc[row_indexer,col_indexer] = value instead\n",
      "\n",
      "See the caveats in the documentation: https://pandas.pydata.org/pandas-docs/stable/user_guide/indexing.html#returning-a-view-versus-a-copy\n",
      "  df['date'] = pd.to_datetime(df['order_date'], dayfirst=True, errors='coerce')\n",
      "/var/folders/qm/xr3xsq8s2hl_27kvzqb6mkz40000gn/T/ipykernel_23376/3800934436.py:15: SettingWithCopyWarning: \n",
      "A value is trying to be set on a copy of a slice from a DataFrame.\n",
      "Try using .loc[row_indexer,col_indexer] = value instead\n",
      "\n",
      "See the caveats in the documentation: https://pandas.pydata.org/pandas-docs/stable/user_guide/indexing.html#returning-a-view-versus-a-copy\n",
      "  df['day'] = df['date'].dt.day\n",
      "/var/folders/qm/xr3xsq8s2hl_27kvzqb6mkz40000gn/T/ipykernel_23376/3800934436.py:16: SettingWithCopyWarning: \n",
      "A value is trying to be set on a copy of a slice from a DataFrame.\n",
      "Try using .loc[row_indexer,col_indexer] = value instead\n",
      "\n",
      "See the caveats in the documentation: https://pandas.pydata.org/pandas-docs/stable/user_guide/indexing.html#returning-a-view-versus-a-copy\n",
      "  df['month'] = df['date'].dt.month\n",
      "/var/folders/qm/xr3xsq8s2hl_27kvzqb6mkz40000gn/T/ipykernel_23376/3800934436.py:17: SettingWithCopyWarning: \n",
      "A value is trying to be set on a copy of a slice from a DataFrame.\n",
      "Try using .loc[row_indexer,col_indexer] = value instead\n",
      "\n",
      "See the caveats in the documentation: https://pandas.pydata.org/pandas-docs/stable/user_guide/indexing.html#returning-a-view-versus-a-copy\n",
      "  df['year'] = df['date'].dt.year\n"
     ]
    }
   ],
   "source": [
    "import pandas as pd\n",
    "\n",
    "# Import File\n",
    "amazon_data = pd.read_excel(\"/Users/jinnanut/Library/Mobile Documents/com~apple~CloudDocs/NUT/Exeter University/Master/Term 3/BEMM466 Business Project/Dissertation/Data/AmazonUS.xlsx\")\n",
    "\n",
    "\n",
    "# Select only useful columns\n",
    "df = amazon_data[['order_date','quantity','category','price']]\n",
    "df['date'] = df['order_date']\n",
    "\n",
    "# Change date column to datetime format\n",
    "df['date'] = pd.to_datetime(df['order_date'], dayfirst=True, errors='coerce')\n",
    "\n",
    "# Extract day, month and year for analyst, then drop the old date column\n",
    "df['day'] = df['date'].dt.day\n",
    "df['month'] = df['date'].dt.month\n",
    "df['year'] = df['date'].dt.year\n",
    "\n",
    "df = df.drop(columns=['order_date'])\n",
    "\n",
    "# Group by categorty and convert daily data to weekly data\n",
    "df.set_index('date', inplace = True)\n",
    "df = df.groupby('category').resample('W')['quantity','price'].sum().reset_index()\n",
    "\n",
    "print(df.head())\n",
    "\n",
    "# Export weekly data to Excel \n",
    "df.to_excel('/Users/jinnanut/Library/Mobile Documents/com~apple~CloudDocs/NUT/Exeter University/Master/Term 3/BEMM466 Business Project/Dissertation/Data/AmazonData.xlsx')"
   ]
  },
  {
   "cell_type": "code",
   "execution_count": null,
   "id": "407b94b0",
   "metadata": {},
   "outputs": [],
   "source": []
  }
 ],
 "metadata": {
  "kernelspec": {
   "display_name": "Python 3 (ipykernel)",
   "language": "python",
   "name": "python3"
  },
  "language_info": {
   "codemirror_mode": {
    "name": "ipython",
    "version": 3
   },
   "file_extension": ".py",
   "mimetype": "text/x-python",
   "name": "python",
   "nbconvert_exporter": "python",
   "pygments_lexer": "ipython3",
   "version": "3.11.7"
  }
 },
 "nbformat": 4,
 "nbformat_minor": 5
}
