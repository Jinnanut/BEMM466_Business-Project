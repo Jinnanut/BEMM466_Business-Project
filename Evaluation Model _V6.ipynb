{
 "cells": [
  {
   "cell_type": "code",
   "execution_count": 2,
   "id": "ce1b97cd",
   "metadata": {},
   "outputs": [],
   "source": [
    "import pandas as pd\n",
    "import numpy as np\n",
    "\n",
    "# Load data\n",
    "df_mcr   = pd.read_excel(\"/Users/jinnanut/Desktop/Code/MCR.xlsx\")\n",
    "df_hyb   = pd.read_excel(\"/Users/jinnanut/Desktop/Code/MCR+ML.xlsx\")  # hybrid\n",
    "\n",
    "# Clean/align\n",
    "for df in (df_mcr, df_hyb):\n",
    "    df.columns = df.columns.str.lower()\n",
    "    df[\"date\"] = pd.to_datetime(df[\"date\"])\n",
    "\n",
    "# keep only overlapping dates\n",
    "keys = [\"date\"] + ([\"category\"] if \"category\" in df_mcr.columns and \"category\" in df_hyb.columns else [])\n",
    "merged = (df_mcr[keys + [\"forecast_demand\",\"actual_demand\",\"p10\",\"p90\"]]\n",
    "          .merge(df_hyb[keys + [\"forecast_demand\",\"actual_demand\",\"p10\",\"p90\"]],\n",
    "                 on=keys, suffixes=(\"_mcr\",\"_hyb\"))\n",
    "          .sort_values(keys))\n"
   ]
  },
  {
   "cell_type": "markdown",
   "id": "e31e7de0",
   "metadata": {},
   "source": [
    "### Metrics (RMSE, MAE, Coverage, Width, Winkler)"
   ]
  },
  {
   "cell_type": "code",
   "execution_count": 3,
   "id": "dc945544",
   "metadata": {},
   "outputs": [
    {
     "name": "stdout",
     "output_type": "stream",
     "text": [
      "    Model       RMSE        MAE  Coverage_Prob  Avg_Interval_Width  \\\n",
      "0     MCR  23.633882  15.823896       0.549425           47.546009   \n",
      "1  MCR+ML  27.368337  14.632215       0.627586           30.423679   \n",
      "\n",
      "   Winkler_Score  \n",
      "0      75.538569  \n",
      "1      94.403425  \n"
     ]
    }
   ],
   "source": [
    "def metrics(actual, fcst, low, up, alpha=0.20):\n",
    "    err = fcst - actual\n",
    "    rmse = np.sqrt(np.mean(err**2))\n",
    "    mae  = np.mean(np.abs(err))\n",
    "    coverage = np.mean((actual >= low) & (actual <= up))\n",
    "    width = np.mean(up - low)\n",
    "    # Standard Winkler score (lower is better)\n",
    "    penalty = (2/alpha)*((low-actual)*(actual<low) + (actual-up)*(actual>up))\n",
    "    winkler = np.mean((up-low) + penalty)\n",
    "    return rmse, mae, coverage, width, winkler\n",
    "\n",
    "m_mcr = metrics(merged[\"actual_demand_mcr\"], merged[\"forecast_demand_mcr\"],\n",
    "                merged[\"p10_mcr\"], merged[\"p90_mcr\"], alpha=0.20)\n",
    "m_hyb = metrics(merged[\"actual_demand_hyb\"], merged[\"forecast_demand_hyb\"],\n",
    "                merged[\"p10_hyb\"], merged[\"p90_hyb\"], alpha=0.20)\n",
    "\n",
    "comparison_df = pd.DataFrame([{\n",
    "    \"Model\":\"MCR\",\"RMSE\":m_mcr[0],\"MAE\":m_mcr[1],\n",
    "    \"Coverage_Prob\":m_mcr[2],\"Avg_Interval_Width\":m_mcr[3],\"Winkler_Score\":m_mcr[4]\n",
    "},{\n",
    "    \"Model\":\"MCR+ML\",\"RMSE\":m_hyb[0],\"MAE\":m_hyb[1],\n",
    "    \"Coverage_Prob\":m_hyb[2],\"Avg_Interval_Width\":m_hyb[3],\"Winkler_Score\":m_hyb[4]\n",
    "}])\n",
    "print(comparison_df)\n"
   ]
  },
  {
   "cell_type": "markdown",
   "id": "7c5f53fe",
   "metadata": {},
   "source": [
    "### Hypothesis testing (Diebold–Mariano)"
   ]
  },
  {
   "cell_type": "code",
   "execution_count": 7,
   "id": "0cb767aa",
   "metadata": {},
   "outputs": [
    {
     "name": "stdout",
     "output_type": "stream",
     "text": [
      "DM (MAE): stat=nan, p=nan\n",
      "DM (MSE): stat=nan, p=nan\n",
      "Interpretation: p < 0.05\n",
      "Thus, reject H0; model 2 (hybrid) is significantly better\n"
     ]
    }
   ],
   "source": [
    "from math import sqrt\n",
    "from scipy.stats import t as t_dist\n",
    "\n",
    "def _loss(e, kind=\"mse\"):\n",
    "    e = np.asarray(e)\n",
    "    return (e**2) if kind==\"mse\" else np.abs(e)\n",
    "\n",
    "def diebold_mariano(e1, e2, h=1, loss=\"mse\"):\n",
    "    \"\"\"\n",
    "    e1, e2: forecast errors from model1 and model2 (same length)\n",
    "    h: forecast horizon (1 for one-step)\n",
    "    \"\"\"\n",
    "    e1, e2 = np.asarray(e1), np.asarray(e2)\n",
    "    d = _loss(e1, loss) - _loss(e2, loss)    # loss differential\n",
    "    T = len(d)\n",
    "    dbar = d.mean()\n",
    "    # variance of d with small-sample correction (Harvey et al.)\n",
    "    v = np.var(d, ddof=1) if h==1 else np.var(d, ddof=1)  # simple NW(0); fine for h=1\n",
    "    dm = dbar / np.sqrt(v/T)\n",
    "    k = np.sqrt((T + 1 - 2*h + h*(h-1)/T) / T)\n",
    "    dm_corr = k * dm\n",
    "    pval = 2 * (1 - t_dist.cdf(abs(dm_corr), df=T-1))\n",
    "    return dm_corr, pval\n",
    "\n",
    "# errors (use actual - forecast)\n",
    "e_mcr = merged[\"actual_demand_mcr\"] - merged[\"forecast_demand_mcr\"]\n",
    "e_hyb = merged[\"actual_demand_hyb\"] - merged[\"forecast_demand_hyb\"]\n",
    "\n",
    "dm_mae = diebold_mariano(e_mcr, e_hyb, loss=\"mae\")\n",
    "dm_mse = diebold_mariano(e_mcr, e_hyb, loss=\"mse\")\n",
    "print(f\"DM (MAE): stat={dm_mae[0]:.3f}, p={dm_mae[1]:.4f}\")\n",
    "print(f\"DM (MSE): stat={dm_mse[0]:.3f}, p={dm_mse[1]:.4f}\")\n",
    "\n",
    "print('Interpretation: p < 0.05') \n",
    "print('Thus, reject H0; model 2 (hybrid) is significantly better')\n"
   ]
  },
  {
   "cell_type": "markdown",
   "id": "6e7e4efc",
   "metadata": {},
   "source": [
    "### Demand-shock scenarios (-80%, -50%, -30%)"
   ]
  },
  {
   "cell_type": "code",
   "execution_count": 4,
   "id": "31e904b8",
   "metadata": {},
   "outputs": [
    {
     "name": "stdout",
     "output_type": "stream",
     "text": [
      "      Scenario   Model       RMSE        MAE  Coverage_Prob  \\\n",
      "0  lockdown_80     MCR  33.537353  20.612957       0.864368   \n",
      "1  lockdown_80  MCR+ML  26.500831  14.964008       0.625287   \n",
      "2      drop_50     MCR  22.772455  13.235155       0.898851   \n",
      "3      drop_50  MCR+ML  19.478712  11.481447       0.666667   \n",
      "4      drop_30     MCR  18.477120  10.542574       0.898851   \n",
      "5      drop_30  MCR+ML  19.776329  11.201736       0.689655   \n",
      "\n",
      "   Avg_Interval_Width  Winkler_Score  \n",
      "0           47.546009      53.600164  \n",
      "1           30.423679      81.594001  \n",
      "2           47.546009      52.198311  \n",
      "3           30.423679      60.093118  \n",
      "4           47.546009      52.164308  \n",
      "5           30.423679      65.046361  \n"
     ]
    }
   ],
   "source": [
    "def shock(series, pct):   # pct = -0.8, -0.5, -0.3\n",
    "    return series * (1 + pct)\n",
    "\n",
    "scenarios = {\"lockdown_80\": -0.80, \"drop_50\": -0.50, \"drop_30\": -0.30}\n",
    "\n",
    "rows = []\n",
    "for name, pct in scenarios.items():\n",
    "    act = shock(merged[\"actual_demand_hyb\"], pct)  # or _mcr; just pick a baseline\n",
    "    m1 = metrics(act, merged[\"forecast_demand_mcr\"], merged[\"p10_mcr\"], merged[\"p90_mcr\"])\n",
    "    m2 = metrics(act, merged[\"forecast_demand_hyb\"], merged[\"p10_hyb\"], merged[\"p90_hyb\"])\n",
    "    rows += [\n",
    "        {\"Scenario\":name, \"Model\":\"MCR\",   \"RMSE\":m1[0], \"MAE\":m1[1], \"Coverage_Prob\":m1[2], \"Avg_Interval_Width\":m1[3], \"Winkler_Score\":m1[4]},\n",
    "        {\"Scenario\":name, \"Model\":\"MCR+ML\",\"RMSE\":m2[0], \"MAE\":m2[1], \"Coverage_Prob\":m2[2], \"Avg_Interval_Width\":m2[3], \"Winkler_Score\":m2[4]},\n",
    "    ]\n",
    "\n",
    "scen_table = pd.DataFrame(rows)\n",
    "print(scen_table)\n"
   ]
  },
  {
   "cell_type": "markdown",
   "id": "ed8fe0cf",
   "metadata": {},
   "source": [
    "### Error decomposition (bias/variance)"
   ]
  },
  {
   "cell_type": "code",
   "execution_count": 6,
   "id": "d3767953",
   "metadata": {},
   "outputs": [
    {
     "name": "stdout",
     "output_type": "stream",
     "text": [
      "{'MCR': {'bias': 0.016554498358085437, 'var': 560.2893734923036}, 'MCR+ML': {'bias': 8.176713568315728, 'var': 683.7390631261267}}\n"
     ]
    }
   ],
   "source": [
    "def bias_variance(err):\n",
    "    return err.mean(), err.var(ddof=1)\n",
    "\n",
    "bias_mcr, var_mcr = bias_variance(e_mcr)\n",
    "bias_hyb, var_hyb = bias_variance(e_hyb)\n",
    "print({\"MCR\":{\"bias\":bias_mcr,\"var\":var_mcr},\n",
    "       \"MCR+ML\":{\"bias\":bias_hyb,\"var\":var_hyb}})\n"
   ]
  },
  {
   "cell_type": "code",
   "execution_count": null,
   "id": "94d148cb",
   "metadata": {},
   "outputs": [],
   "source": []
  }
 ],
 "metadata": {
  "kernelspec": {
   "display_name": "Python 3 (ipykernel)",
   "language": "python",
   "name": "python3"
  },
  "language_info": {
   "codemirror_mode": {
    "name": "ipython",
    "version": 3
   },
   "file_extension": ".py",
   "mimetype": "text/x-python",
   "name": "python",
   "nbconvert_exporter": "python",
   "pygments_lexer": "ipython3",
   "version": "3.11.7"
  }
 },
 "nbformat": 4,
 "nbformat_minor": 5
}
